{
 "cells": [
  {
   "cell_type": "markdown",
   "id": "6e326245-204e-4d49-8c56-fba6b6f2cd5d",
   "metadata": {},
   "source": [
    " Q1.Suppose a child psychologist claims that the average time working mothers spend talking to their children is at least 11 minutes per day. You conduct a random sample of 1000 working mothers and find they spend an average of 11.5 minutes per day talking with their children. Assume prior research suggests the population standard deviation is 2.3 minutes.Conduct a test with a level of significance of alpha = 0.05."
   ]
  },
  {
   "cell_type": "code",
   "execution_count": 1,
   "id": "93766bd6-c203-4639-b46f-f5c0ddd84eac",
   "metadata": {},
   "outputs": [],
   "source": [
    "import scipy.stats as stats"
   ]
  },
  {
   "cell_type": "code",
   "execution_count": 2,
   "id": "4b74d65f-3c6d-4b4f-9283-11a5d9d7b6d1",
   "metadata": {},
   "outputs": [],
   "source": [
    "# given data\n",
    "population_mean=11  # population mean under null hypothesis\n",
    "sample_size=1000    \n",
    "sample_mean=11.5\n",
    "population_std=2.3  # standard deviation of population\n",
    "alpha=0.05          # significance level"
   ]
  },
  {
   "cell_type": "code",
   "execution_count": 4,
   "id": "3c89ef9b-7217-4f44-b217-2eb63a8ae5bc",
   "metadata": {},
   "outputs": [],
   "source": [
    "# calculate z test statistics\n",
    "z_score=(sample_mean-population_mean)/(population_std/(sample_size**0.5))"
   ]
  },
  {
   "cell_type": "code",
   "execution_count": 5,
   "id": "780ed56e-d90f-41b4-bacc-d651e4874f7b",
   "metadata": {},
   "outputs": [],
   "source": [
    "# calculate the critical value\n",
    "critical_value=stats.norm.ppf(1-alpha)"
   ]
  },
  {
   "cell_type": "code",
   "execution_count": 6,
   "id": "b19e1f36-f525-4cef-ba64-9b0741495233",
   "metadata": {},
   "outputs": [
    {
     "name": "stdout",
     "output_type": "stream",
     "text": [
      "Z_score :  6.874516652539955\n"
     ]
    }
   ],
   "source": [
    "# print the z score and critical value\n",
    "print(\"Z_score : \",z_score)"
   ]
  },
  {
   "cell_type": "code",
   "execution_count": 7,
   "id": "d668c801-a24e-4474-bd4a-e816dd45dc52",
   "metadata": {},
   "outputs": [
    {
     "name": "stdout",
     "output_type": "stream",
     "text": [
      "Critical_value : 1.6448536269514722\n"
     ]
    }
   ],
   "source": [
    "print(\"Critical_value :\",critical_value)"
   ]
  },
  {
   "cell_type": "code",
   "execution_count": 8,
   "id": "b753123a-a586-434c-af94-545d8efb96b6",
   "metadata": {},
   "outputs": [
    {
     "name": "stdout",
     "output_type": "stream",
     "text": [
      "Reject null hypothesis\n"
     ]
    }
   ],
   "source": [
    "# compare the z score with the critical value and make a decision\n",
    "if z_score>critical_value:\n",
    "    print(\"Reject null hypothesis\")\n",
    "else:\n",
    "    print(\"Fail to reject null hypothesis\")"
   ]
  },
  {
   "cell_type": "markdown",
   "id": "689d2da3-bf63-4b3a-82b0-4cd5f8aa8fcd",
   "metadata": {},
   "source": [
    "Q2. A coffee shop claims that their average wait time for customers is less than 5 minutes. To test this claim, a sample of 40 customers is taken, and their wait times are recorded. The sample mean wait time is found to be 4.6 minutes with a standard deviation of 0.8 minutes. Perform a hypothesis test at a significance level of 0.05 and determine whether there is enough evidence to support the coffee shop's claim."
   ]
  },
  {
   "cell_type": "code",
   "execution_count": 9,
   "id": "bf8461b8-5a3b-4152-b934-b3f4e0d5d097",
   "metadata": {},
   "outputs": [],
   "source": [
    "import scipy.stats as stats"
   ]
  },
  {
   "cell_type": "code",
   "execution_count": 10,
   "id": "2800f083-b6f3-4303-8820-7f3701a9fb75",
   "metadata": {},
   "outputs": [],
   "source": [
    "# given data\n",
    "population_mean=5   # population mean under null hypothesis\n",
    "sample_size=40\n",
    "sample_mean=4.6\n",
    "population_std=0.8  # standard deviation of population\n",
    "alpha=0.05           # significance level"
   ]
  },
  {
   "cell_type": "code",
   "execution_count": 11,
   "id": "bf23ab85-cfee-4536-9921-7a83f3451d55",
   "metadata": {},
   "outputs": [],
   "source": [
    "# calculate the z test statistics\n",
    "z_score=(sample_mean-population_mean)/(population_std/(sample_size**0.05))"
   ]
  },
  {
   "cell_type": "code",
   "execution_count": 12,
   "id": "a4fcd4a5-4aa2-4708-848c-6444b23c0a48",
   "metadata": {},
   "outputs": [],
   "source": [
    "# calculate the critical value\n",
    "critical_value=stats.norm.ppf(1-alpha)"
   ]
  },
  {
   "cell_type": "code",
   "execution_count": 13,
   "id": "72719006-490a-4a65-accf-21526cc7f1c8",
   "metadata": {},
   "outputs": [
    {
     "name": "stdout",
     "output_type": "stream",
     "text": [
      "Z_score :  -0.601274801898418\n"
     ]
    }
   ],
   "source": [
    "# print the z_score and critical value\n",
    "print(\"Z_score : \",z_score)"
   ]
  },
  {
   "cell_type": "code",
   "execution_count": 14,
   "id": "2b994265-6efb-45ec-ab96-a79cd6d5d67f",
   "metadata": {},
   "outputs": [
    {
     "name": "stdout",
     "output_type": "stream",
     "text": [
      "Critical_value :  1.6448536269514722\n"
     ]
    }
   ],
   "source": [
    "print(\"Critical_value : \",critical_value)"
   ]
  },
  {
   "cell_type": "code",
   "execution_count": 15,
   "id": "34751633-257f-4eac-87df-be61a735f155",
   "metadata": {},
   "outputs": [
    {
     "name": "stdout",
     "output_type": "stream",
     "text": [
      "Reject null hypothesis\n"
     ]
    }
   ],
   "source": [
    "# compare z score with critical value and make a decision\n",
    "if z_score<critical_value:\n",
    "    print(\"Reject null hypothesis\")\n",
    "else:\n",
    "    print(\"Fail to reject null hypothesis\")"
   ]
  }
 ],
 "metadata": {
  "kernelspec": {
   "display_name": "Python 3 (ipykernel)",
   "language": "python",
   "name": "python3"
  },
  "language_info": {
   "codemirror_mode": {
    "name": "ipython",
    "version": 3
   },
   "file_extension": ".py",
   "mimetype": "text/x-python",
   "name": "python",
   "nbconvert_exporter": "python",
   "pygments_lexer": "ipython3",
   "version": "3.11.4"
  }
 },
 "nbformat": 4,
 "nbformat_minor": 5
}
